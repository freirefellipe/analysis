{
  "nbformat": 4,
  "nbformat_minor": 0,
  "metadata": {
    "colab": {
      "provenance": []
    },
    "kernelspec": {
      "name": "python3",
      "display_name": "Python 3"
    },
    "language_info": {
      "name": "python"
    }
  },
  "cells": [
    {
      "cell_type": "code",
      "execution_count": null,
      "metadata": {
        "colab": {
          "base_uri": "https://localhost:8080/"
        },
        "id": "cQWh3BhoBwdm",
        "outputId": "3b023554-42db-4864-bd3d-8d39248f9085"
      },
      "outputs": [
        {
          "name": "stdout",
          "output_type": "stream",
          "text": [
            "Qual arquivo a ser lido? -brute.csv\n"
          ]
        }
      ],
      "source": [
        "ids, candidates, grades, ranking = [], [], [], []\n",
        "\n",
        "inputfile = str(input('Qual arquivo a ser lido? -'))\n",
        "\n",
        "with open (file=inputfile, mode='r', encoding='utf8') as localfile:\n",
        "  line = localfile.readline()\n",
        "\n",
        "  while line:\n",
        "    line = line.strip() if (len(line) < 11) else line.strip('\\n')\n",
        "\n",
        "    if ('.' not in line) and (len(line) == 8):\n",
        "      ids.append(line)\n",
        "    if (len(line) > 11):\n",
        "      candidates.append(line)\n",
        "    if '.' in line:\n",
        "      grades.append(line)\n",
        "    if (len(line) < 5 ):\n",
        "      ranking.append(line)\n",
        "    line = localfile.readline()"
      ]
    },
    {
      "cell_type": "code",
      "source": [
        "outputfile = str(input('Escolha o nome do documento: '))\n",
        "\n",
        "with open (file=outputfile, mode='a', encoding='utf8') as tocsv:\n",
        "  for i in range(len(ids)):\n",
        "    tocsv.write(f'{ids[i]};{candidates[i]};{grades[i]};{ranking[i]}\\n')\n",
        "\n",
        "print(f'O documento {outputfile} foi gerado com sucesso')"
      ],
      "metadata": {
        "colab": {
          "base_uri": "https://localhost:8080/"
        },
        "id": "_V0c4DJ1KoYB",
        "outputId": "38e8eb9c-8bcf-404d-a7d6-b8fe292c2eb5"
      },
      "execution_count": null,
      "outputs": [
        {
          "output_type": "stream",
          "name": "stdout",
          "text": [
            "Escolha o nome do documento: agente-t3-pcpb.csv\n",
            "O documento agente-t3-pcpb.csv foi gerado com sucesso\n"
          ]
        }
      ]
    }
  ]
}